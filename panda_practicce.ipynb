{
 "cells": [
  {
   "cell_type": "code",
   "execution_count": 3,
   "id": "0cc9cef5",
   "metadata": {},
   "outputs": [],
   "source": [
    "# List of high schools\n",
    "#high_schools = [\"Hernandez High School\", \"Figueroa High School\",\n",
    "#                 \"Wilson High School\",\"Wright High School\"]"
   ]
  },
  {
   "cell_type": "code",
   "execution_count": 4,
   "id": "4b9a55fc",
   "metadata": {},
   "outputs": [],
   "source": [
    "#for school in high_schools:\n",
    "# print (school)"
   ]
  },
  {
   "cell_type": "code",
   "execution_count": 5,
   "id": "a90cb3c9",
   "metadata": {},
   "outputs": [],
   "source": [
    "# print(high_schools)"
   ]
  },
  {
   "cell_type": "code",
   "execution_count": 6,
   "id": "18d045fe",
   "metadata": {},
   "outputs": [],
   "source": [
    "# A dictionary of high schools and the type of school.\n",
    "#high_school_types = [{\"High School\": \"Griffin\", \"Type\":\"District\"},{\"High School\": \"Figueroa\", \"Type\": \"District\"},{\"High School\": \"Wilson\", \"Type\": \"Charter\"},{\"High School\": \"Wright\", \"Type\": \"Charter\"}]\n",
    "#print(high_school_types)"
   ]
  },
  {
   "cell_type": "code",
   "execution_count": 7,
   "id": "44c2b1d1",
   "metadata": {
    "scrolled": true
   },
   "outputs": [],
   "source": [
    "#for School in high_school_types:\n",
    "#    print(School)\n",
    "    "
   ]
  },
  {
   "cell_type": "code",
   "execution_count": 8,
   "id": "fe2d906a",
   "metadata": {},
   "outputs": [],
   "source": [
    "# List of high schools\n",
    "high_schools = [\"Huang High School\",  \"Figueroa High School\", \"Shelton High School\", \"Hernandez High School\",\"Griffin High School\",\"Wilson High School\", \"Cabrera High School\", \"Bailey High School\", \"Holden High School\", \"Pena High School\", \"Wright High School\",\"Rodriguez High School\", \"Johnson High School\", \"Ford High School\", \"Thomas High School\"]\n",
    "\n",
    "# Add pandas dependency\n",
    "import pandas as pd"
   ]
  },
  {
   "cell_type": "code",
   "execution_count": 9,
   "id": "b0b751fa",
   "metadata": {},
   "outputs": [],
   "source": [
    "# Create a Pandas Series from a list.\n",
    "#school_series = pd.Series(high_schools)\n",
    "#school_series"
   ]
  },
  {
   "cell_type": "code",
   "execution_count": 10,
   "id": "c66fef6a",
   "metadata": {},
   "outputs": [],
   "source": [
    "#for school in school_series:\n",
    "# print (school)\n"
   ]
  },
  {
   "cell_type": "code",
   "execution_count": 11,
   "id": "15ea6561",
   "metadata": {},
   "outputs": [],
   "source": [
    "  # A dictionary of high schools\n",
    "#high_school_dicts = [{\"School ID\": 0, \"school_name\": \"Huang High    School\", \"type\": \"District\"},\n",
    "#                   {\"School ID\": 1, \"school_name\": \"Figueroa High School\", \"type\": \"District\"},\n",
    "#                    {\"School ID\": 2, \"school_name\":\"Shelton High School\", \"type\": \"Charter\"},\n",
    "#                    {\"School ID\": 3, \"school_name\":\"Hernandez High School\", \"type\": \"District\"},\n",
    "#                    {\"School ID\": 4, \"school_name\":\"Griffin High School\", \"type\": \"Charter\"}]\n",
    "#school_df = pd.DataFrame(high_school_dicts)\n",
    "#school_df  "
   ]
  },
  {
   "cell_type": "code",
   "execution_count": null,
   "id": "7f2fad8f",
   "metadata": {},
   "outputs": [],
   "source": []
  },
  {
   "cell_type": "code",
   "execution_count": 12,
   "id": "212afc4c",
   "metadata": {},
   "outputs": [],
   "source": [
    "# Three separate lists of information on high schools\n",
    "school_id = [0, 1, 2, 3, 4]\n",
    "\n",
    "school_name = [\"Huang High School\", \"Figueroa High School\",\n",
    "\"Shelton High School\", \"Hernandez High School\",\"Griffin High School\"]\n",
    "\n",
    "type_of_school = [\"District\", \"District\", \"Charter\", \"District\",\"Charter\"]\n",
    "\n",
    "# Initialize a new DataFrame.\n",
    "schools_df = pd.DataFrame()\n",
    "\n",
    "# Add the list to a new DataFrame.\n",
    "schools_df[\"School ID\"] = school_id\n",
    "\n",
    "# Add the School Name to the Schools_df Data Drame.\n",
    "schools_df[\"School_name\"] = school_name\n",
    "\n",
    "# Add the District Type to the Schools_df Data Drame.\n",
    "schools_df[\"type_of_school\"] = type_of_school\n",
    "\n",
    "# Print the DataFrame.\n",
    "# schools_df"
   ]
  },
  {
   "cell_type": "code",
   "execution_count": 13,
   "id": "f3db28e5",
   "metadata": {},
   "outputs": [],
   "source": [
    "# Create a dictionary of information on high schools.\n",
    "high_schools_dict = {'School ID': school_id, 'school_name':school_name, 'type':type_of_school}"
   ]
  },
  {
   "cell_type": "code",
   "execution_count": 14,
   "id": "f6f94f9a",
   "metadata": {},
   "outputs": [
    {
     "ename": "NameError",
     "evalue": "name 'high_school_dict' is not defined",
     "output_type": "error",
     "traceback": [
      "\u001b[1;31m---------------------------------------------------------------------------\u001b[0m",
      "\u001b[1;31mNameError\u001b[0m                                 Traceback (most recent call last)",
      "\u001b[1;32m~\\AppData\\Local\\Temp/ipykernel_5644/1225911957.py\u001b[0m in \u001b[0;36m<module>\u001b[1;34m\u001b[0m\n\u001b[1;32m----> 1\u001b[1;33m \u001b[0mhigh_schools_df\u001b[0m \u001b[1;33m=\u001b[0m \u001b[0mpd\u001b[0m\u001b[1;33m.\u001b[0m\u001b[0mDataFrame\u001b[0m\u001b[1;33m(\u001b[0m\u001b[0mhigh_school_dict\u001b[0m\u001b[1;33m)\u001b[0m\u001b[1;33m\u001b[0m\u001b[1;33m\u001b[0m\u001b[0m\n\u001b[0m\u001b[0;32m      2\u001b[0m \u001b[0mprint\u001b[0m \u001b[1;33m(\u001b[0m\u001b[0mhigh_schools_df\u001b[0m\u001b[1;33m)\u001b[0m\u001b[1;33m\u001b[0m\u001b[1;33m\u001b[0m\u001b[0m\n",
      "\u001b[1;31mNameError\u001b[0m: name 'high_school_dict' is not defined"
     ]
    }
   ],
   "source": [
    "high_schools_df = pd.DataFrame(high_school_dict)\n",
    "print (high_schools_df)\n"
   ]
  },
  {
   "cell_type": "code",
   "execution_count": null,
   "id": "d6d7f63d",
   "metadata": {},
   "outputs": [],
   "source": []
  },
  {
   "cell_type": "code",
   "execution_count": null,
   "id": "b660e438-8681-4eda-82c4-67adc4b6678f",
   "metadata": {},
   "outputs": [],
   "source": []
  }
 ],
 "metadata": {
  "kernelspec": {
   "display_name": "PythonData",
   "language": "python",
   "name": "pythondata"
  },
  "language_info": {
   "codemirror_mode": {
    "name": "ipython",
    "version": 3
   },
   "file_extension": ".py",
   "mimetype": "text/x-python",
   "name": "python",
   "nbconvert_exporter": "python",
   "pygments_lexer": "ipython3",
   "version": "3.7.11"
  }
 },
 "nbformat": 4,
 "nbformat_minor": 5
}
